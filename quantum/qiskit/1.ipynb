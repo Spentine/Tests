{
 "cells": [
  {
   "cell_type": "markdown",
   "id": "81696a22",
   "metadata": {},
   "source": [
    "# Basics of Quantum Information\n",
    "20250504 | 4 May 2025\n",
    "Spentine\n",
    "\n",
    "Learning for fun!"
   ]
  },
  {
   "cell_type": "markdown",
   "id": "5f4da4bf",
   "metadata": {},
   "source": [
    "## Single Systems\n",
    "https://learning.quantum.ibm.com/course/basics-of-quantum-information/single-systems"
   ]
  },
  {
   "cell_type": "code",
   "execution_count": 1,
   "id": "668bfe09",
   "metadata": {},
   "outputs": [
    {
     "name": "stdout",
     "output_type": "stream",
     "text": [
      "valid: True\n",
      "outcome: 0\n"
     ]
    }
   ],
   "source": [
    "import numpy\n",
    "import qiskit\n",
    "\n",
    "u = qiskit.quantum_info.Statevector([1 / numpy.sqrt(2), 1 / numpy.sqrt(2)])\n",
    "\n",
    "outcome, state = u.measure()\n",
    "\n",
    "print(\"valid: \" + str(u.is_valid()))\n",
    "print(\"outcome: \" + str(outcome))"
   ]
  },
  {
   "cell_type": "markdown",
   "id": "98d56fc7",
   "metadata": {},
   "source": [
    "applying operation"
   ]
  },
  {
   "cell_type": "code",
   "execution_count": 2,
   "id": "eb0ac544",
   "metadata": {},
   "outputs": [
    {
     "data": {
      "text/latex": [
       "$$\\frac{\\sqrt{2}}{2} |0\\rangle+\\frac{\\sqrt{2}}{2} |1\\rangle$$"
      ],
      "text/plain": [
       "<IPython.core.display.Latex object>"
      ]
     },
     "metadata": {},
     "output_type": "display_data"
    }
   ],
   "source": [
    "v = qiskit.quantum_info.Statevector([1, 0])\n",
    "\n",
    "H = qiskit.quantum_info.Operator([\n",
    "  [1 / numpy.sqrt(2), 1 / numpy.sqrt(2)],\n",
    "  [1 / numpy.sqrt(2), -1 / numpy.sqrt(2)]\n",
    "])\n",
    "\n",
    "v = v.evolve(H)\n",
    "display(v.draw(\"latex\"))"
   ]
  },
  {
   "cell_type": "markdown",
   "id": "6379a9d4",
   "metadata": {},
   "source": [
    "quantum circuit"
   ]
  },
  {
   "cell_type": "code",
   "execution_count": 3,
   "id": "f2d63c47",
   "metadata": {},
   "outputs": [
    {
     "data": {
      "image/png": "[encoded data removed]",
      "text/plain": [
       "<Figure size 352.675x117.056 with 1 Axes>"
      ]
     },
     "metadata": {},
     "output_type": "display_data"
    }
   ],
   "source": [
    "circuit = qiskit.QuantumCircuit(1)\n",
    "\n",
    "# sqrt not\n",
    "circuit.h(0) # hadamard gate\n",
    "circuit.s(0) # phase gate (π/2)\n",
    "circuit.h(0) # hadamard gate\n",
    "\n",
    "display(circuit.draw(output=\"mpl\"))"
   ]
  },
  {
   "cell_type": "markdown",
   "id": "53388460",
   "metadata": {},
   "source": [
    "apply circuit and sample it"
   ]
  },
  {
   "cell_type": "code",
   "execution_count": 4,
   "id": "3f53b692",
   "metadata": {},
   "outputs": [
    {
     "data": {
      "text/latex": [
       "$$(\\frac{1}{2} + \\frac{i}{2}) |0\\rangle+(\\frac{1}{2} - \\frac{i}{2}) |1\\rangle$$"
      ],
      "text/plain": [
       "<IPython.core.display.Latex object>"
      ]
     },
     "metadata": {},
     "output_type": "display_data"
    },
    {
     "data": {
      "image/png": "[encoded data removed]",
      "text/plain": [
       "<Figure size 640x480 with 1 Axes>"
      ]
     },
     "metadata": {},
     "output_type": "display_data"
    },
    {
     "data": {
      "text/latex": [
       "$$ |1\\rangle$$"
      ],
      "text/plain": [
       "<IPython.core.display.Latex object>"
      ]
     },
     "metadata": {},
     "output_type": "display_data"
    }
   ],
   "source": [
    "v = qiskit.quantum_info.Statevector([1, 0])\n",
    "\n",
    "# (√¬)² = ¬\n",
    "\n",
    "v = v.evolve(circuit)\n",
    "display(v.draw(\"latex\"))\n",
    "\n",
    "statistics = v.sample_counts(1000)\n",
    "display(qiskit.visualization.plot_histogram(statistics))\n",
    "\n",
    "v = v.evolve(circuit)\n",
    "display(v.draw(\"latex\"))"
   ]
  },
  {
   "cell_type": "markdown",
   "id": "d12ecb66",
   "metadata": {},
   "source": [
    "## Multiple Systems\n",
    "https://learning.quantum.ibm.com/course/basics-of-quantum-information/multiple-systems"
   ]
  },
  {
   "cell_type": "code",
   "execution_count": 5,
   "id": "c290dbcf",
   "metadata": {},
   "outputs": [
    {
     "data": {
      "text/latex": [
       "$$ |01\\rangle$$"
      ],
      "text/plain": [
       "<IPython.core.display.Latex object>"
      ]
     },
     "metadata": {},
     "output_type": "display_data"
    }
   ],
   "source": [
    "zero = qiskit.quantum_info.Statevector.from_label(\"0\")\n",
    "one = qiskit.quantum_info.Statevector.from_label(\"1\")\n",
    "\n",
    "psi = zero.tensor(one)\n",
    "\n",
    "display(psi.draw(\"latex\"))"
   ]
  },
  {
   "cell_type": "markdown",
   "id": "c78b08e7",
   "metadata": {},
   "source": [
    "other labels"
   ]
  },
  {
   "cell_type": "code",
   "execution_count": 6,
   "id": "173a8b58",
   "metadata": {},
   "outputs": [
    {
     "data": {
      "text/latex": [
       "$$\\frac{\\sqrt{2}}{2} |0\\rangle+\\frac{\\sqrt{2}}{2} |1\\rangle$$"
      ],
      "text/plain": [
       "<IPython.core.display.Latex object>"
      ]
     },
     "metadata": {},
     "output_type": "display_data"
    },
    {
     "data": {
      "text/latex": [
       "$$\\frac{\\sqrt{2}}{2} |0\\rangle- \\frac{\\sqrt{2}}{2} |1\\rangle$$"
      ],
      "text/plain": [
       "<IPython.core.display.Latex object>"
      ]
     },
     "metadata": {},
     "output_type": "display_data"
    },
    {
     "data": {
      "text/latex": [
       "$$\\frac{\\sqrt{2}}{2} |0\\rangle+\\frac{\\sqrt{2} i}{2} |1\\rangle$$"
      ],
      "text/plain": [
       "<IPython.core.display.Latex object>"
      ]
     },
     "metadata": {},
     "output_type": "display_data"
    },
    {
     "data": {
      "text/latex": [
       "$$\\frac{\\sqrt{2}}{2} |0\\rangle- \\frac{\\sqrt{2} i}{2} |1\\rangle$$"
      ],
      "text/plain": [
       "<IPython.core.display.Latex object>"
      ]
     },
     "metadata": {},
     "output_type": "display_data"
    }
   ],
   "source": [
    "plus = qiskit.quantum_info.Statevector.from_label(\"+\")\n",
    "minus = qiskit.quantum_info.Statevector.from_label(\"-\")\n",
    "plus_i = qiskit.quantum_info.Statevector.from_label(\"r\")\n",
    "minus_i = qiskit.quantum_info.Statevector.from_label(\"l\")\n",
    "\n",
    "display(plus.draw(\"latex\"))\n",
    "display(minus.draw(\"latex\"))\n",
    "display(plus_i.draw(\"latex\"))\n",
    "display(minus_i.draw(\"latex\"))"
   ]
  },
  {
   "cell_type": "markdown",
   "id": "dabb90e4",
   "metadata": {},
   "source": [
    "other ways to tensor"
   ]
  },
  {
   "cell_type": "code",
   "execution_count": 7,
   "id": "5b0006c1",
   "metadata": {},
   "outputs": [
    {
     "data": {
      "text/latex": [
       "$$\\frac{1}{2} |00\\rangle- \\frac{1}{2} |01\\rangle+\\frac{1}{2} |10\\rangle- \\frac{1}{2} |11\\rangle$$"
      ],
      "text/plain": [
       "<IPython.core.display.Latex object>"
      ]
     },
     "metadata": {},
     "output_type": "display_data"
    }
   ],
   "source": [
    "display((plus ^ minus).draw(\"latex\"))"
   ]
  },
  {
   "cell_type": "markdown",
   "id": "d7f65618",
   "metadata": {},
   "source": [
    "operations can also be tensored"
   ]
  },
  {
   "cell_type": "code",
   "execution_count": null,
   "id": "bc4e1422",
   "metadata": {},
   "outputs": [
    {
     "data": {
      "text/latex": [
       "$$\n",
       "\n",
       "\\begin{bmatrix}\n",
       "\\frac{1}{2} & \\frac{1}{2} & \\frac{1}{2} & \\frac{1}{2}  \\\\\n",
       " \\frac{1}{2} & - \\frac{1}{2} & \\frac{1}{2} & - \\frac{1}{2}  \\\\\n",
       " \\frac{1}{2} & \\frac{1}{2} & - \\frac{1}{2} & - \\frac{1}{2}  \\\\\n",
       " \\frac{1}{2} & - \\frac{1}{2} & - \\frac{1}{2} & \\frac{1}{2}  \\\\\n",
       " \\end{bmatrix}\n",
       "$$"
      ],
      "text/plain": [
       "<IPython.core.display.Latex object>"
      ]
     },
     "metadata": {},
     "output_type": "display_data"
    }
   ],
   "source": [
    "H = qiskit.quantum_info.Operator.from_label(\"H\")\n",
    "H2 = H.tensor(H) # H ^ H also works\n",
    "\n",
    "display(H2.draw(\"latex\"))"
   ]
  },
  {
   "cell_type": "markdown",
   "id": "f47daaba",
   "metadata": {},
   "source": [
    "measurements\n",
    "\n",
    "> note: qiskit indexes qubits right to left starting with 0"
   ]
  },
  {
   "cell_type": "code",
   "execution_count": 16,
   "id": "fe4212ca",
   "metadata": {},
   "outputs": [
    {
     "data": {
      "text/latex": [
       "$$\\frac{\\sqrt{3}}{3} |000\\rangle+\\frac{\\sqrt{3}}{3} |011\\rangle+\\frac{\\sqrt{3}}{3} |110\\rangle$$"
      ],
      "text/plain": [
       "<IPython.core.display.Latex object>"
      ]
     },
     "metadata": {},
     "output_type": "display_data"
    },
    {
     "data": {
      "text/latex": [
       "$$ |110\\rangle$$"
      ],
      "text/plain": [
       "<IPython.core.display.Latex object>"
      ]
     },
     "metadata": {},
     "output_type": "display_data"
    },
    {
     "data": {
      "text/latex": [
       "$$\\frac{\\sqrt{2}}{2} |000\\rangle+\\frac{\\sqrt{2}}{2} |110\\rangle$$"
      ],
      "text/plain": [
       "<IPython.core.display.Latex object>"
      ]
     },
     "metadata": {},
     "output_type": "display_data"
    }
   ],
   "source": [
    "w = qiskit.quantum_info.Statevector([1, 0, 0, 1, 0, 0, 1, 0] / numpy.sqrt(3))\n",
    "display(w.draw(\"latex\"))\n",
    "\n",
    "result, state = w.measure()\n",
    "display(state.draw(\"latex\")) # measures the state of the entire system\n",
    "\n",
    "result, state = w.measure([0]) # measures the state of the first qubit\n",
    "display(state.draw(\"latex\"))"
   ]
  }
 ],
 "metadata": {
  "kernelspec": {
   "display_name": "Python 3",
   "language": "python",
   "name": "python3"
  },
  "language_info": {
   "codemirror_mode": {
    "name": "ipython",
    "version": 3
   },
   "file_extension": ".py",
   "mimetype": "text/x-python",
   "name": "python",
   "nbconvert_exporter": "python",
   "pygments_lexer": "ipython3",
   "version": "3.11.7"
  }
 },
 "nbformat": 4,
 "nbformat_minor": 5
}
